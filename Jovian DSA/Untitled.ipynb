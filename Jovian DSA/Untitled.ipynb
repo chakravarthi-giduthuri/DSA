{
 "cells": [
  {
   "cell_type": "code",
   "execution_count": 23,
   "id": "38d8e758",
   "metadata": {},
   "outputs": [],
   "source": [
    "nums1 = [1,2,2,1]\n",
    "nums2 = [2]"
   ]
  },
  {
   "cell_type": "code",
   "execution_count": 24,
   "id": "965e0127",
   "metadata": {},
   "outputs": [
    {
     "name": "stdout",
     "output_type": "stream",
     "text": [
      "1\n",
      "2\n",
      "2\n",
      "1\n"
     ]
    }
   ],
   "source": [
    "l1 = len(nums1)\n",
    "l2 = len(nums2)\n",
    "if l2<l1:\n",
    "    for i in range(len(nums1)):\n",
    "        print(nums1[i])\n",
    "            "
   ]
  },
  {
   "cell_type": "code",
   "execution_count": 25,
   "id": "9a64b477",
   "metadata": {},
   "outputs": [],
   "source": [
    "def intersection(lst1, lst2):\n",
    "    lst3 = [value for value in lst1 if value in lst2]\n",
    "    return lst3"
   ]
  },
  {
   "cell_type": "code",
   "execution_count": 26,
   "id": "457637df",
   "metadata": {},
   "outputs": [
    {
     "data": {
      "text/plain": [
       "[2, 2]"
      ]
     },
     "execution_count": 26,
     "metadata": {},
     "output_type": "execute_result"
    }
   ],
   "source": [
    "intersection(nums1,nums2)"
   ]
  },
  {
   "cell_type": "code",
   "execution_count": 30,
   "id": "7c4ab2b6",
   "metadata": {
    "scrolled": true
   },
   "outputs": [
    {
     "name": "stdout",
     "output_type": "stream",
     "text": [
      "2\n",
      "2\n"
     ]
    }
   ],
   "source": [
    "for value in nums1:\n",
    "    if value in nums2:\n",
    "        print(value)"
   ]
  },
  {
   "cell_type": "code",
   "execution_count": null,
   "id": "2f5a43da",
   "metadata": {},
   "outputs": [],
   "source": [
    "number=int(input(\"Enter any number :\"))\n",
    "\n",
    "temp=number\n",
    "\n",
    "reverse_num=0\n",
    "while(number>0):\n",
    "    digit=number%10\n",
    "    reverse_num=reverse_num*10+digit\n",
    "    number=number//10\n",
    "if(temp==reverse_num):\n",
    "    print(\"The number is palindrome!\")\n",
    "else:\n",
    "    print(\"Not a palindrome!\")"
   ]
  },
  {
   "cell_type": "code",
   "execution_count": 40,
   "id": "e9bf3a32",
   "metadata": {},
   "outputs": [
    {
     "data": {
      "text/plain": [
       "12"
      ]
     },
     "execution_count": 40,
     "metadata": {},
     "output_type": "execute_result"
    }
   ],
   "source": []
  },
  {
   "cell_type": "code",
   "execution_count": null,
   "id": "5d627f2a",
   "metadata": {},
   "outputs": [],
   "source": []
  }
 ],
 "metadata": {
  "kernelspec": {
   "display_name": "Python 3",
   "language": "python",
   "name": "python3"
  },
  "language_info": {
   "codemirror_mode": {
    "name": "ipython",
    "version": 3
   },
   "file_extension": ".py",
   "mimetype": "text/x-python",
   "name": "python",
   "nbconvert_exporter": "python",
   "pygments_lexer": "ipython3",
   "version": "3.8.8"
  }
 },
 "nbformat": 4,
 "nbformat_minor": 5
}
