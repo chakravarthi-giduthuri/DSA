{
 "cells": [
  {
   "cell_type": "code",
   "execution_count": 1,
   "id": "54ce5634",
   "metadata": {},
   "outputs": [],
   "source": [
    "class User:\n",
    "    pass"
   ]
  },
  {
   "cell_type": "code",
   "execution_count": 2,
   "id": "31c7b4d8",
   "metadata": {},
   "outputs": [],
   "source": [
    "user1 = User()"
   ]
  },
  {
   "cell_type": "code",
   "execution_count": 3,
   "id": "9d4ae6ae",
   "metadata": {},
   "outputs": [
    {
     "data": {
      "text/plain": [
       "<__main__.User at 0x17fef1d9340>"
      ]
     },
     "execution_count": 3,
     "metadata": {},
     "output_type": "execute_result"
    }
   ],
   "source": [
    "user1"
   ]
  },
  {
   "cell_type": "code",
   "execution_count": 4,
   "id": "9f73a397",
   "metadata": {},
   "outputs": [
    {
     "data": {
      "text/plain": [
       "__main__.User"
      ]
     },
     "execution_count": 4,
     "metadata": {},
     "output_type": "execute_result"
    }
   ],
   "source": [
    "type(user1)"
   ]
  },
  {
   "cell_type": "code",
   "execution_count": 7,
   "id": "dd139ad1",
   "metadata": {},
   "outputs": [],
   "source": [
    "class User:\n",
    "    def __init__(self,name,username,email):\n",
    "        self.name = name\n",
    "        self.username = username\n",
    "        self.email = email\n",
    "        print('user created')"
   ]
  },
  {
   "cell_type": "code",
   "execution_count": 8,
   "id": "42e6374a",
   "metadata": {},
   "outputs": [
    {
     "name": "stdout",
     "output_type": "stream",
     "text": [
      "user created\n"
     ]
    }
   ],
   "source": [
    "user2 = User('chakri','chakravarthi','chakri@example.com')"
   ]
  },
  {
   "cell_type": "code",
   "execution_count": 9,
   "id": "ae8173f6",
   "metadata": {},
   "outputs": [
    {
     "data": {
      "text/plain": [
       "<__main__.User at 0x17fef857640>"
      ]
     },
     "execution_count": 9,
     "metadata": {},
     "output_type": "execute_result"
    }
   ],
   "source": [
    "user2"
   ]
  },
  {
   "cell_type": "code",
   "execution_count": 10,
   "id": "9d57a823",
   "metadata": {},
   "outputs": [
    {
     "data": {
      "text/plain": [
       "'chakri'"
      ]
     },
     "execution_count": 10,
     "metadata": {},
     "output_type": "execute_result"
    }
   ],
   "source": [
    "user2.name"
   ]
  },
  {
   "cell_type": "code",
   "execution_count": 11,
   "id": "dc0be43a",
   "metadata": {},
   "outputs": [
    {
     "data": {
      "text/plain": [
       "'chakravarthi'"
      ]
     },
     "execution_count": 11,
     "metadata": {},
     "output_type": "execute_result"
    }
   ],
   "source": [
    "user2.username"
   ]
  },
  {
   "cell_type": "code",
   "execution_count": 12,
   "id": "0a1ba882",
   "metadata": {},
   "outputs": [
    {
     "data": {
      "text/plain": [
       "'chakri@example.com'"
      ]
     },
     "execution_count": 12,
     "metadata": {},
     "output_type": "execute_result"
    }
   ],
   "source": [
    "user2.email"
   ]
  },
  {
   "cell_type": "code",
   "execution_count": 20,
   "id": "872d8a3f",
   "metadata": {},
   "outputs": [],
   "source": [
    "class User:\n",
    "    def __init__(self,name,username,email):\n",
    "        self.name = name\n",
    "        self.username = username\n",
    "        self.email = email\n",
    "        print('user created')\n",
    "    \n",
    "    def __repr__(self):\n",
    "         return \"User(username='{}',name='{}',email='{}')\".format(self.username,self.name,self.email)\n",
    "    \n",
    "    def __str__(self):\n",
    "        return self.username\n",
    "    "
   ]
  },
  {
   "cell_type": "code",
   "execution_count": 21,
   "id": "d4145fa4",
   "metadata": {},
   "outputs": [
    {
     "name": "stdout",
     "output_type": "stream",
     "text": [
      "user created\n"
     ]
    }
   ],
   "source": [
    "user3 = User('tony','ironman','tony@example.com')"
   ]
  },
  {
   "cell_type": "code",
   "execution_count": 22,
   "id": "26fa9c64",
   "metadata": {},
   "outputs": [
    {
     "data": {
      "text/plain": [
       "User(username='ironman',name='tony',email='tony@example.com')"
      ]
     },
     "execution_count": 22,
     "metadata": {},
     "output_type": "execute_result"
    }
   ],
   "source": [
    "user3"
   ]
  },
  {
   "cell_type": "markdown",
   "id": "64c835fc",
   "metadata": {},
   "source": [
    "#  example test cases"
   ]
  },
  {
   "cell_type": "code",
   "execution_count": 23,
   "id": "284068c6",
   "metadata": {},
   "outputs": [
    {
     "name": "stdout",
     "output_type": "stream",
     "text": [
      "user created\n",
      "user created\n",
      "user created\n",
      "user created\n",
      "user created\n",
      "user created\n",
      "user created\n"
     ]
    }
   ],
   "source": [
    "aakash = User('aakash', 'Aakash Rai', 'aakash@example.com')\n",
    "biraj = User('biraj', 'Biraj Das', 'biraj@example.com')\n",
    "hemanth = User('hemanth', 'Hemanth Jain', 'hemanth@example.com')\n",
    "jadhesh = User('jadhesh', 'Jadhesh Verma', 'jadhesh@example.com')\n",
    "siddhant = User('siddhant', 'Siddhant Sinha', 'siddhant@example.com')\n",
    "sonaksh = User('sonaksh', 'Sonaksh Kumar', 'sonaksh@example.com')\n",
    "vishal = User('vishal', 'Vishal Goel', 'vishal@example.com')"
   ]
  },
  {
   "cell_type": "code",
   "execution_count": 24,
   "id": "83adfd10",
   "metadata": {},
   "outputs": [],
   "source": [
    "users = [aakash, biraj, hemanth, jadhesh, siddhant, sonaksh, vishal]"
   ]
  },
  {
   "cell_type": "code",
   "execution_count": 25,
   "id": "69533b94",
   "metadata": {},
   "outputs": [
    {
     "data": {
      "text/plain": [
       "[User(username='Aakash Rai',name='aakash',email='aakash@example.com'),\n",
       " User(username='Biraj Das',name='biraj',email='biraj@example.com'),\n",
       " User(username='Hemanth Jain',name='hemanth',email='hemanth@example.com'),\n",
       " User(username='Jadhesh Verma',name='jadhesh',email='jadhesh@example.com'),\n",
       " User(username='Siddhant Sinha',name='siddhant',email='siddhant@example.com'),\n",
       " User(username='Sonaksh Kumar',name='sonaksh',email='sonaksh@example.com'),\n",
       " User(username='Vishal Goel',name='vishal',email='vishal@example.com')]"
      ]
     },
     "execution_count": 25,
     "metadata": {},
     "output_type": "execute_result"
    }
   ],
   "source": [
    "users"
   ]
  },
  {
   "cell_type": "code",
   "execution_count": 42,
   "id": "784c177a",
   "metadata": {},
   "outputs": [],
   "source": [
    "class UserDataBase:\n",
    "    def __init__(self):\n",
    "        self.users = []\n",
    "    \n",
    "    def insert(self,user):\n",
    "        i = 0\n",
    "        while i<len(self.users):\n",
    "            if self.users[i].username>user.username:\n",
    "                break\n",
    "            i+=1\n",
    "        self.users.insert(i,user)\n",
    "    \n",
    "    def find(self,username):\n",
    "        for user in self.users:\n",
    "            if user.username == username:\n",
    "                return user\n",
    "    \n",
    "    def update(self,user):\n",
    "        target = self.find(user.username)\n",
    "        target.name,target.email = user.name,user.email\n",
    "        \n",
    "    def list_all(self):\n",
    "        return self.users"
   ]
  },
  {
   "cell_type": "code",
   "execution_count": 43,
   "id": "57e346a8",
   "metadata": {},
   "outputs": [],
   "source": [
    "database = UserDataBase()"
   ]
  },
  {
   "cell_type": "code",
   "execution_count": 44,
   "id": "540ba182",
   "metadata": {},
   "outputs": [],
   "source": [
    "database.insert(hemanth)\n",
    "database.insert(aakash)\n",
    "database.insert(siddhant)"
   ]
  },
  {
   "cell_type": "code",
   "execution_count": 46,
   "id": "88411d22",
   "metadata": {},
   "outputs": [
    {
     "data": {
      "text/plain": [
       "[User(username='Aakash Rai',name='aakash',email='aakash@example.com'),\n",
       " User(username='Hemanth Jain',name='hemanth',email='hemanth@example.com'),\n",
       " User(username='Siddhant Sinha',name='siddhant',email='siddhant@example.com')]"
      ]
     },
     "execution_count": 46,
     "metadata": {},
     "output_type": "execute_result"
    }
   ],
   "source": [
    "database.list_all()"
   ]
  },
  {
   "cell_type": "markdown",
   "id": "1a79182d",
   "metadata": {},
   "source": [
    "#  BINARY TREE"
   ]
  },
  {
   "cell_type": "code",
   "execution_count": 47,
   "id": "39a62ff5",
   "metadata": {},
   "outputs": [],
   "source": [
    "class TreeNode:\n",
    "    def __init__(self,key):\n",
    "        self.key = key\n",
    "        self.left = None\n",
    "        self.right = None"
   ]
  },
  {
   "cell_type": "code",
   "execution_count": 48,
   "id": "afaef0c2",
   "metadata": {},
   "outputs": [],
   "source": [
    "node0 = TreeNode(3)"
   ]
  },
  {
   "cell_type": "code",
   "execution_count": 49,
   "id": "2ce18d32",
   "metadata": {},
   "outputs": [],
   "source": [
    "node1 = TreeNode(4)"
   ]
  },
  {
   "cell_type": "code",
   "execution_count": 51,
   "id": "fcc34173",
   "metadata": {},
   "outputs": [],
   "source": [
    "node2 = TreeNode(5)"
   ]
  },
  {
   "cell_type": "code",
   "execution_count": 54,
   "id": "8d898954",
   "metadata": {},
   "outputs": [
    {
     "data": {
      "text/plain": [
       "3"
      ]
     },
     "execution_count": 54,
     "metadata": {},
     "output_type": "execute_result"
    }
   ],
   "source": [
    "node0.key"
   ]
  },
  {
   "cell_type": "code",
   "execution_count": 55,
   "id": "45d96071",
   "metadata": {},
   "outputs": [],
   "source": [
    "node0.left = node1\n",
    "node0.right = node2"
   ]
  },
  {
   "cell_type": "code",
   "execution_count": 57,
   "id": "3ff33cba",
   "metadata": {},
   "outputs": [
    {
     "data": {
      "text/plain": [
       "4"
      ]
     },
     "execution_count": 57,
     "metadata": {},
     "output_type": "execute_result"
    }
   ],
   "source": [
    "node0.left.key"
   ]
  },
  {
   "cell_type": "code",
   "execution_count": 58,
   "id": "4564097b",
   "metadata": {},
   "outputs": [],
   "source": [
    "tree_tuple = ((1,3,None), 2, ((None, 3, 4), 5, (6, 7, 8)))"
   ]
  },
  {
   "cell_type": "code",
   "execution_count": 59,
   "id": "92e60427",
   "metadata": {},
   "outputs": [],
   "source": [
    "def parse_tuple(data):\n",
    "    if isinstance(data,tuple) and len(data)==3:\n",
    "        node = TreeNode(data[1])\n",
    "        node.left = parse_tuple(data[0])\n",
    "        node.right = parse_tuple(data[2])\n",
    "    elif data is None:\n",
    "        node =  None\n",
    "    else:\n",
    "        node =  TreeNode(data)\n",
    "    return node\n",
    "    \n",
    "        "
   ]
  },
  {
   "cell_type": "code",
   "execution_count": 63,
   "id": "327b3f03",
   "metadata": {},
   "outputs": [],
   "source": [
    "tree1 = parse_tuple(tree_tuple)"
   ]
  },
  {
   "cell_type": "code",
   "execution_count": 64,
   "id": "fb8b3ca5",
   "metadata": {},
   "outputs": [
    {
     "data": {
      "text/plain": [
       "2"
      ]
     },
     "execution_count": 64,
     "metadata": {},
     "output_type": "execute_result"
    }
   ],
   "source": [
    "tree1.key"
   ]
  },
  {
   "cell_type": "markdown",
   "id": "a3f788ac",
   "metadata": {},
   "source": [
    "#  TRAVERSE IN ORDER"
   ]
  },
  {
   "cell_type": "code",
   "execution_count": 73,
   "id": "3ab1bb04",
   "metadata": {},
   "outputs": [],
   "source": [
    "def traverse_in_order(node):\n",
    "    if node is None:\n",
    "        return []\n",
    "    return (traverse_in_order(node.left)+[node.key]+traverse_in_order(node.right))\n",
    "    "
   ]
  },
  {
   "cell_type": "code",
   "execution_count": 74,
   "id": "c778a366",
   "metadata": {},
   "outputs": [],
   "source": [
    "tree = parse_tuple(((1,3,None), 2, ((None, 3, 4), 5, (6, 7, 8))))"
   ]
  },
  {
   "cell_type": "code",
   "execution_count": 75,
   "id": "13ea21a3",
   "metadata": {},
   "outputs": [
    {
     "data": {
      "text/plain": [
       "[1, 3, 2, 3, 4, 5, 6, 7, 8]"
      ]
     },
     "execution_count": 75,
     "metadata": {},
     "output_type": "execute_result"
    }
   ],
   "source": [
    "traverse_in_order(tree)"
   ]
  },
  {
   "cell_type": "markdown",
   "id": "4586d412",
   "metadata": {},
   "source": [
    "#  HEIGHT AND SIZE OF THE TREE"
   ]
  },
  {
   "cell_type": "code",
   "execution_count": 78,
   "id": "663ecd87",
   "metadata": {},
   "outputs": [],
   "source": [
    "def tree_height(node):\n",
    "    if node is None:\n",
    "        return 0\n",
    "    return 1+max(tree_height(node.left),tree_height(node.left))"
   ]
  },
  {
   "cell_type": "code",
   "execution_count": 79,
   "id": "1fee7a88",
   "metadata": {},
   "outputs": [
    {
     "data": {
      "text/plain": [
       "3"
      ]
     },
     "execution_count": 79,
     "metadata": {},
     "output_type": "execute_result"
    }
   ],
   "source": [
    "tree_height(tree)"
   ]
  },
  {
   "cell_type": "code",
   "execution_count": 82,
   "id": "20e11b9c",
   "metadata": {},
   "outputs": [],
   "source": [
    "def tree_size(node):\n",
    "    if node is None:\n",
    "        return 0\n",
    "    return 1+tree_size(node.left)+tree_size(node.right)"
   ]
  },
  {
   "cell_type": "code",
   "execution_count": 83,
   "id": "ac4b81e6",
   "metadata": {},
   "outputs": [
    {
     "data": {
      "text/plain": [
       "9"
      ]
     },
     "execution_count": 83,
     "metadata": {},
     "output_type": "execute_result"
    }
   ],
   "source": [
    "tree_size(tree)"
   ]
  },
  {
   "cell_type": "markdown",
   "id": "1f35c53f",
   "metadata": {},
   "source": [
    "### final Binary Tree"
   ]
  },
  {
   "cell_type": "code",
   "execution_count": 113,
   "id": "b24c6013",
   "metadata": {},
   "outputs": [],
   "source": [
    "class TreeNode:\n",
    "    def __init__(self,key):\n",
    "        self.key = key\n",
    "        self.left = None\n",
    "        self.right = None\n",
    "    \n",
    "    def height(self):\n",
    "        if self is None:\n",
    "            return 0\n",
    "        return 1+max(TreeNode.height(self.left),TreeNode.height(self.right))\n",
    "    \n",
    "    def size(self):\n",
    "        if self is None:\n",
    "            return 0\n",
    "        return 1+TreeNode.size(self.left)+TreeNode.size(self.right)\n",
    "    \n",
    "    def traverse_in_order(self):\n",
    "        if self is None:\n",
    "            return None\n",
    "        return (TreeNode.traverse_in_order(self.left)+\n",
    "                [self.key]+\n",
    "                traverse_in_order(self.right))\n",
    "    \n",
    "    def to_tuple(self):\n",
    "        if self is None:\n",
    "            return None\n",
    "        if self.left is None and self.right is None:\n",
    "            return self.key\n",
    "        return TreeNode.to_tuple(self.left),self.key,TreeNode.to_tuple(self.right)\n",
    "    \n",
    "    def __str__(self):\n",
    "        return \"BinaryTree <{}>\".format(self.to_tuple())\n",
    "    \n",
    "    def __repr__(self):\n",
    "        return \"BinaryTree <{}>\".format(self.to_tuple())\n",
    "    \n",
    "    \n",
    "    @staticmethod\n",
    "    def parse_tuple(data):\n",
    "        if data is None:\n",
    "            node =  None\n",
    "        elif isinstance(data,tuple) and len(data)==3:\n",
    "            node = TreeNode(data[1])\n",
    "            node.left = TreeNode.parse_tuple(data[0])\n",
    "            node.right = TreeNode.parse_tuple(data[2])\n",
    "        else:\n",
    "             node = TreeNode(data) \n",
    "        return node\n",
    "\n"
   ]
  },
  {
   "cell_type": "code",
   "execution_count": 114,
   "id": "77e0c70b",
   "metadata": {},
   "outputs": [
    {
     "data": {
      "text/plain": [
       "((1, 3, None), 2, ((None, 3, 4), 5, (6, 7, 8)))"
      ]
     },
     "execution_count": 114,
     "metadata": {},
     "output_type": "execute_result"
    }
   ],
   "source": [
    "tree_tuple"
   ]
  },
  {
   "cell_type": "code",
   "execution_count": 115,
   "id": "91b8716e",
   "metadata": {},
   "outputs": [],
   "source": [
    "tree = TreeNode.parse_tuple(tree_tuple)"
   ]
  },
  {
   "cell_type": "code",
   "execution_count": 116,
   "id": "308c7ec2",
   "metadata": {},
   "outputs": [
    {
     "data": {
      "text/plain": [
       "4"
      ]
     },
     "execution_count": 116,
     "metadata": {},
     "output_type": "execute_result"
    }
   ],
   "source": [
    "tree.height()"
   ]
  },
  {
   "cell_type": "code",
   "execution_count": 117,
   "id": "fddb05f8",
   "metadata": {},
   "outputs": [
    {
     "data": {
      "text/plain": [
       "9"
      ]
     },
     "execution_count": 117,
     "metadata": {},
     "output_type": "execute_result"
    }
   ],
   "source": [
    "tree.size()"
   ]
  },
  {
   "cell_type": "code",
   "execution_count": 118,
   "id": "9dd17eac",
   "metadata": {},
   "outputs": [
    {
     "data": {
      "text/plain": [
       "((1, 3, None), 2, ((None, 3, 4), 5, (6, 7, 8)))"
      ]
     },
     "execution_count": 118,
     "metadata": {},
     "output_type": "execute_result"
    }
   ],
   "source": [
    "tree.to_tuple()"
   ]
  },
  {
   "cell_type": "markdown",
   "id": "5f6de58b",
   "metadata": {},
   "source": [
    "# BINARY SEARCH TREE\n",
    "\n",
    "#### check wheather binary tree is a binary search tree or not???"
   ]
  },
  {
   "cell_type": "code",
   "execution_count": 132,
   "id": "d8969274",
   "metadata": {},
   "outputs": [],
   "source": [
    "def remove_none(nums):\n",
    "    return (x for x in nums if x is not None)\n",
    "\n",
    "def is_bst(node):\n",
    "    if node is None:\n",
    "        return True, None, None\n",
    "    \n",
    "    is_bst_l,min_l,max_l = is_bst(node.left)\n",
    "    is_bst_r,min_r,max_r = is_bst(node.right)\n",
    "    \n",
    "    is_bst_node = (is_bst_l and is_bst_r \n",
    "                    and(max_l is None or max_l <node.key)\n",
    "                    and (max_r is None or max_r>node.key))\n",
    "    min_key = min(remove_none([min_l,node.key,min_r]))\n",
    "    max_key = max(remove_none([max_l,node.key,max_r]))\n",
    "    \n",
    "    return is_bst_node,min_key,max_key\n",
    "    "
   ]
  },
  {
   "cell_type": "code",
   "execution_count": 133,
   "id": "a359f0eb",
   "metadata": {},
   "outputs": [],
   "source": [
    "tree1 = TreeNode.parse_tuple(((1, 3, None), 2, ((None, 3, 4), 5, (6, 7, 8))))"
   ]
  },
  {
   "cell_type": "code",
   "execution_count": 134,
   "id": "32ce8d45",
   "metadata": {},
   "outputs": [
    {
     "data": {
      "text/plain": [
       "(False, 1, 8)"
      ]
     },
     "execution_count": 134,
     "metadata": {},
     "output_type": "execute_result"
    }
   ],
   "source": [
    "is_bst(tree1)"
   ]
  },
  {
   "cell_type": "code",
   "execution_count": 135,
   "id": "b785b4f3",
   "metadata": {},
   "outputs": [],
   "source": [
    "tree2 = TreeNode.parse_tuple((('aakash', 'biraj', 'hemanth')  , 'jadhesh', ('siddhant', 'sonaksh', 'vishal')))"
   ]
  },
  {
   "cell_type": "code",
   "execution_count": 136,
   "id": "351c13cf",
   "metadata": {},
   "outputs": [
    {
     "data": {
      "text/plain": [
       "(True, 'aakash', 'vishal')"
      ]
     },
     "execution_count": 136,
     "metadata": {},
     "output_type": "execute_result"
    }
   ],
   "source": [
    "is_bst(tree2)"
   ]
  },
  {
   "cell_type": "code",
   "execution_count": 148,
   "id": "03183711",
   "metadata": {},
   "outputs": [],
   "source": [
    "class BSTNode():\n",
    "    def __init__(self, key, value=None):\n",
    "        self.key = key\n",
    "        self.value = value\n",
    "        self.left = None\n",
    "        self.right = None\n",
    "        self.parent = None\n",
    "def make_balanced_bst(data, lo=0, hi=None, parent=None):\n",
    "    if hi is None:\n",
    "        hi = len(data) - 1\n",
    "    if lo > hi:\n",
    "        return None\n",
    "    \n",
    "    mid = (lo + hi) // 2\n",
    "    key, value = data[mid]\n",
    "#     print(data[mid])\n",
    "\n",
    "    root = BSTNode(key, value)\n",
    "    root.parent = parent\n",
    "    root.left = make_balanced_bst(data, lo, mid-1, root)\n",
    "    root.right = make_balanced_bst(data, mid+1, hi, root)\n",
    "    \n",
    "    return root\n",
    "    "
   ]
  },
  {
   "cell_type": "code",
   "execution_count": 149,
   "id": "db413566",
   "metadata": {},
   "outputs": [
    {
     "data": {
      "text/plain": [
       "[('Aakash Rai',\n",
       "  User(username='Aakash Rai',name='aakash',email='aakash@example.com')),\n",
       " ('Biraj Das',\n",
       "  User(username='Biraj Das',name='biraj',email='biraj@example.com')),\n",
       " ('Hemanth Jain',\n",
       "  User(username='Hemanth Jain',name='hemanth',email='hemanth@example.com')),\n",
       " ('Jadhesh Verma',\n",
       "  User(username='Jadhesh Verma',name='jadhesh',email='jadhesh@example.com')),\n",
       " ('Siddhant Sinha',\n",
       "  User(username='Siddhant Sinha',name='siddhant',email='siddhant@example.com')),\n",
       " ('Sonaksh Kumar',\n",
       "  User(username='Sonaksh Kumar',name='sonaksh',email='sonaksh@example.com')),\n",
       " ('Vishal Goel',\n",
       "  User(username='Vishal Goel',name='vishal',email='vishal@example.com'))]"
      ]
     },
     "execution_count": 149,
     "metadata": {},
     "output_type": "execute_result"
    }
   ],
   "source": [
    "data = [(user.username, user) for user in users]\n",
    "data"
   ]
  },
  {
   "cell_type": "code",
   "execution_count": 150,
   "id": "804deb55",
   "metadata": {},
   "outputs": [
    {
     "name": "stdout",
     "output_type": "stream",
     "text": [
      "('Jadhesh Verma', User(username='Jadhesh Verma',name='jadhesh',email='jadhesh@example.com'))\n",
      "('Biraj Das', User(username='Biraj Das',name='biraj',email='biraj@example.com'))\n",
      "('Aakash Rai', User(username='Aakash Rai',name='aakash',email='aakash@example.com'))\n",
      "('Hemanth Jain', User(username='Hemanth Jain',name='hemanth',email='hemanth@example.com'))\n",
      "('Sonaksh Kumar', User(username='Sonaksh Kumar',name='sonaksh',email='sonaksh@example.com'))\n",
      "('Siddhant Sinha', User(username='Siddhant Sinha',name='siddhant',email='siddhant@example.com'))\n",
      "('Vishal Goel', User(username='Vishal Goel',name='vishal',email='vishal@example.com'))\n"
     ]
    }
   ],
   "source": [
    "tree = make_balanced_bst(data)"
   ]
  },
  {
   "cell_type": "code",
   "execution_count": 151,
   "id": "effc1aba",
   "metadata": {},
   "outputs": [],
   "source": [
    "tests = [('tony','ironman'),('cap','marvel')]"
   ]
  },
  {
   "cell_type": "code",
   "execution_count": 152,
   "id": "8309977d",
   "metadata": {},
   "outputs": [],
   "source": [
    "key,value = tests[0]"
   ]
  },
  {
   "cell_type": "code",
   "execution_count": 153,
   "id": "d730c202",
   "metadata": {},
   "outputs": [
    {
     "data": {
      "text/plain": [
       "'tony'"
      ]
     },
     "execution_count": 153,
     "metadata": {},
     "output_type": "execute_result"
    }
   ],
   "source": [
    "key"
   ]
  },
  {
   "cell_type": "code",
   "execution_count": 155,
   "id": "9db52705",
   "metadata": {},
   "outputs": [
    {
     "data": {
      "text/plain": [
       "'ironman'"
      ]
     },
     "execution_count": 155,
     "metadata": {},
     "output_type": "execute_result"
    }
   ],
   "source": [
    "value"
   ]
  },
  {
   "cell_type": "code",
   "execution_count": 3,
   "id": "d8edb3c2",
   "metadata": {},
   "outputs": [
    {
     "name": "stdout",
     "output_type": "stream",
     "text": [
      "aaabbaccccdd\n",
      "4\n"
     ]
    }
   ],
   "source": [
    "test_str = input()\n",
    "k = 4\n",
    "res=[]\n",
    "curr,cnt = None,0\n",
    "for chr in test_str:\n",
    "    if chr == curr:\n",
    "        cnt+=1\n",
    "    else:\n",
    "        curr,cnt = chr,1\n",
    "    if cnt ==k:\n",
    "        res.append(k*cnt)\n",
    "print(len(str(res)))"
   ]
  },
  {
   "cell_type": "code",
   "execution_count": 7,
   "id": "aa3ff9f9",
   "metadata": {},
   "outputs": [
    {
     "name": "stdout",
     "output_type": "stream",
     "text": [
      "vdkkmmmnn\n",
      "4\n"
     ]
    }
   ],
   "source": [
    "test_str = input()\n",
    "count = 0\n",
    "for i in range(len(test_str)-1):\n",
    "    if test_str[i]==test_str[i+1]:\n",
    "        count+=1\n",
    "print(count)\n"
   ]
  },
  {
   "cell_type": "code",
   "execution_count": 9,
   "id": "1f744a9d",
   "metadata": {},
   "outputs": [
    {
     "name": "stdout",
     "output_type": "stream",
     "text": [
      "aaabaccccdd\n",
      "6\n"
     ]
    }
   ],
   "source": [
    "word = input()\n",
    "count =1\n",
    "lengh = ''\n",
    "t = 0\n",
    "if len(word)>1:\n",
    "    for i in range(1,len(word)):\n",
    "        if word[i-1]==word[i]:\n",
    "            count+=1\n",
    "        else:\n",
    "            if count%2 == 0:\n",
    "                t+=count\n",
    "                count=1\n",
    "else:\n",
    "    i = 0\n",
    "    if count%2 ==0:\n",
    "        t+=count\n",
    "print(t)"
   ]
  },
  {
   "cell_type": "code",
   "execution_count": 11,
   "id": "453ece67",
   "metadata": {},
   "outputs": [
    {
     "name": "stdout",
     "output_type": "stream",
     "text": [
      "aaabbaccccdd\n",
      "12\n"
     ]
    }
   ],
   "source": [
    "s = input()\n",
    "lst = list(s)\n",
    "x = set(lst)\n",
    "res = 0\n",
    "for i in x:\n",
    "    if lst.count(i)%2==0:\n",
    "        res+=lst.count(i)\n",
    "print(res)"
   ]
  },
  {
   "cell_type": "code",
   "execution_count": null,
   "id": "64784b35",
   "metadata": {},
   "outputs": [],
   "source": []
  }
 ],
 "metadata": {
  "kernelspec": {
   "display_name": "Python 3",
   "language": "python",
   "name": "python3"
  },
  "language_info": {
   "codemirror_mode": {
    "name": "ipython",
    "version": 3
   },
   "file_extension": ".py",
   "mimetype": "text/x-python",
   "name": "python",
   "nbconvert_exporter": "python",
   "pygments_lexer": "ipython3",
   "version": "3.8.8"
  }
 },
 "nbformat": 4,
 "nbformat_minor": 5
}
