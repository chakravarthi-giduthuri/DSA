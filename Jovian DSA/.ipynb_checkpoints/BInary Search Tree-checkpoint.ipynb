{
 "cells": [
  {
   "cell_type": "code",
   "execution_count": 1,
   "id": "b427c9ed",
   "metadata": {},
   "outputs": [],
   "source": [
    "class User:\n",
    "    pass"
   ]
  },
  {
   "cell_type": "code",
   "execution_count": 2,
   "id": "d6bcc3b5",
   "metadata": {},
   "outputs": [],
   "source": [
    "user1 = User()"
   ]
  },
  {
   "cell_type": "code",
   "execution_count": 3,
   "id": "4ea0b7f5",
   "metadata": {},
   "outputs": [
    {
     "data": {
      "text/plain": [
       "<__main__.User at 0x17fef1d9340>"
      ]
     },
     "execution_count": 3,
     "metadata": {},
     "output_type": "execute_result"
    }
   ],
   "source": [
    "user1"
   ]
  },
  {
   "cell_type": "code",
   "execution_count": 4,
   "id": "5a9458fa",
   "metadata": {},
   "outputs": [
    {
     "data": {
      "text/plain": [
       "__main__.User"
      ]
     },
     "execution_count": 4,
     "metadata": {},
     "output_type": "execute_result"
    }
   ],
   "source": [
    "type(user1)"
   ]
  },
  {
   "cell_type": "code",
   "execution_count": 7,
   "id": "86a48a34",
   "metadata": {},
   "outputs": [],
   "source": [
    "class User:\n",
    "    def __init__(self,name,username,email):\n",
    "        self.name = name\n",
    "        self.username = username\n",
    "        self.email = email\n",
    "        print('user created')"
   ]
  },
  {
   "cell_type": "code",
   "execution_count": 8,
   "id": "8bc9e4bc",
   "metadata": {},
   "outputs": [
    {
     "name": "stdout",
     "output_type": "stream",
     "text": [
      "user created\n"
     ]
    }
   ],
   "source": [
    "user2 = User('chakri','chakravarthi','chakri@example.com')"
   ]
  },
  {
   "cell_type": "code",
   "execution_count": 9,
   "id": "9375fe34",
   "metadata": {},
   "outputs": [
    {
     "data": {
      "text/plain": [
       "<__main__.User at 0x17fef857640>"
      ]
     },
     "execution_count": 9,
     "metadata": {},
     "output_type": "execute_result"
    }
   ],
   "source": [
    "user2"
   ]
  },
  {
   "cell_type": "code",
   "execution_count": 10,
   "id": "af8e84dc",
   "metadata": {},
   "outputs": [
    {
     "data": {
      "text/plain": [
       "'chakri'"
      ]
     },
     "execution_count": 10,
     "metadata": {},
     "output_type": "execute_result"
    }
   ],
   "source": [
    "user2.name"
   ]
  },
  {
   "cell_type": "code",
   "execution_count": 11,
   "id": "a7173a62",
   "metadata": {},
   "outputs": [
    {
     "data": {
      "text/plain": [
       "'chakravarthi'"
      ]
     },
     "execution_count": 11,
     "metadata": {},
     "output_type": "execute_result"
    }
   ],
   "source": [
    "user2.username"
   ]
  },
  {
   "cell_type": "code",
   "execution_count": 12,
   "id": "0dd3d4ad",
   "metadata": {},
   "outputs": [
    {
     "data": {
      "text/plain": [
       "'chakri@example.com'"
      ]
     },
     "execution_count": 12,
     "metadata": {},
     "output_type": "execute_result"
    }
   ],
   "source": [
    "user2.email"
   ]
  },
  {
   "cell_type": "code",
   "execution_count": 14,
   "id": "e8fe5142",
   "metadata": {},
   "outputs": [],
   "source": [
    "class User:\n",
    "    def __init__(self,name,username,email):\n",
    "        self.name = name\n",
    "        self.username = username\n",
    "        self.email = email\n",
    "        print('user created')\n",
    "    \n",
    "    def __repr__(self):\n",
    "        return \"User(username='{}',name='{}',email='{}')\".format(self.username,self.name,self.email)\n",
    "    \n",
    "    def __str__(self):\n",
    "        return self.username\n",
    "    "
   ]
  },
  {
   "cell_type": "code",
   "execution_count": 15,
   "id": "fd9aea3b",
   "metadata": {},
   "outputs": [
    {
     "name": "stdout",
     "output_type": "stream",
     "text": [
      "user created\n"
     ]
    }
   ],
   "source": [
    "user3 = User('tony','ironman','tony@example.com')"
   ]
  },
  {
   "cell_type": "code",
   "execution_count": null,
   "id": "cb44a406",
   "metadata": {},
   "outputs": [],
   "source": []
  },
  {
   "cell_type": "code",
   "execution_count": null,
   "id": "4e001eda",
   "metadata": {},
   "outputs": [],
   "source": []
  },
  {
   "cell_type": "code",
   "execution_count": null,
   "id": "e3f4283b",
   "metadata": {},
   "outputs": [],
   "source": []
  },
  {
   "cell_type": "code",
   "execution_count": null,
   "id": "b33bb0b7",
   "metadata": {},
   "outputs": [],
   "source": []
  }
 ],
 "metadata": {
  "kernelspec": {
   "display_name": "Python 3",
   "language": "python",
   "name": "python3"
  },
  "language_info": {
   "codemirror_mode": {
    "name": "ipython",
    "version": 3
   },
   "file_extension": ".py",
   "mimetype": "text/x-python",
   "name": "python",
   "nbconvert_exporter": "python",
   "pygments_lexer": "ipython3",
   "version": "3.8.8"
  }
 },
 "nbformat": 4,
 "nbformat_minor": 5
}
